{
 "cells": [
  {
   "cell_type": "markdown",
   "id": "02a6d02e-c69b-46be-baeb-22ca7f99633e",
   "metadata": {},
   "source": [
    "## Gestão de ambientes multicloud"
   ]
  },
  {
   "cell_type": "markdown",
   "id": "b2ba5653-50a2-479e-8579-99968b4ed32f",
   "metadata": {},
   "source": [
    "#### Esse sistema envolve um Pipeline de Dados das clouds Azure e AWS e a predição de custos por meio de Random Forest. Foram realizadas duas abordagens: uma análise individual, aplicando o modelo separadamente para cada cloud, e uma análise conjunta, que combinou os dados de CPU e memória de ambas as plataformas para estimar os custos de forma integrada."
   ]
  },
  {
   "cell_type": "markdown",
   "id": "827fd563-ffea-4a81-a2a8-91f0523a3df5",
   "metadata": {},
   "source": [
    "---"
   ]
  },
  {
   "cell_type": "markdown",
   "id": "881ba945-221d-4fdd-b56c-6f4adcf87a28",
   "metadata": {},
   "source": [
    "#### Importação das bibliotecas importantes para o sistema"
   ]
  },
  {
   "cell_type": "code",
   "execution_count": 1,
   "id": "ba18327c-6c0e-4899-a2b9-3f637c6683e5",
   "metadata": {},
   "outputs": [],
   "source": [
    "import requests  # Requisições HTTP (ex: APIs)\n",
    "import pandas as pd  # Manipulação de dados\n",
    "from sklearn.ensemble import RandomForestRegressor  # Para o processo de regressão usando Random Forest\n",
    "from sklearn.metrics import root_mean_squared_error, r2_score  # Métricas de avaliação\n",
    "from sklearn.model_selection import train_test_split  # Para dividir os dados entre treino e teste\n",
    "import numpy as np  # Operações numéricas\n",
    "import json  # Para anipulação de arquivos JSON\n",
    " # Para visualização grafica\n",
    "import matplotlib.pyplot as plt  \n",
    "import seaborn as sns \n",
    "import shap  # Para o processo de interpretabilidade do modelo ML usando a técnica SHAP\n",
    "import xgboost as xgb\n",
    "from sklearn.preprocessing import LabelEncoder # usada para codificação de variáveis categórica\n",
    "from sklearn.model_selection import GridSearchCV"
   ]
  },
  {
   "cell_type": "markdown",
   "id": "886f0144-65c6-4853-bfcd-0b8245b26159",
   "metadata": {},
   "source": [
    "#### Ingestão dos dados de AWS Princing\n",
    "Este trecho de código coleta e processa preços de instâncias EC2 (Linux, com locação compartilhada) diretamente da API pública de preços da AWS. Após filtrar os dados relevantes, ele os organiza em um DataFrame pandas contendo informações como tipo de instância, vCPUs, memória, região e preço por hora.\n",
    "\n",
    "- **`cloud`**: Nome da nuvem (fixo: `\"AWS\"`, usado para possivel gestão);\n",
    "- **`sku`**: Identificador único da oferta;\n",
    "- **`instanceType`**: Tipo da instância (ex: `t2.micro`).\n",
    "- **`vcpu`**: Número de CPUs virtuais;\n",
    "- **`memory`**: Memória RAM da instância;\n",
    "- **`region`**: Região onde a instância está disponível;\n",
    "- **`price`**: Preço por unidade (h);\n",
    "- **`unit`**: Unidade de cobrança (usado para ver se os dados estão vindo em preço/hora).\n"
   ]
  },
  {
   "cell_type": "code",
   "execution_count": null,
   "id": "8586b4e0-0c60-481b-a66c-b2c13902392d",
   "metadata": {
    "scrolled": true
   },
   "outputs": [],
   "source": [
    "import requests\n",
    "import pandas as pd\n",
    "import time\n",
    "\n",
    "aws_url = \"https://pricing.us-east-1.amazonaws.com/offers/v1.0/aws/AmazonEC2/current/index.json\"\n",
    "aws_precos = []\n",
    "\n",
    "max_retries = 3  # Máximo de tentativas em caso de erro\n",
    "timeout = 30     # Tempo máximo de espera para resposta (em segundos)\n",
    "retries = 0\n",
    "success = False\n",
    "\n",
    "while not success and retries < max_retries:\n",
    "    try:\n",
    "        response = requests.get(\n",
    "            aws_url,\n",
    "            headers={\"User-Agent\": \"Mozilla/5.0\"},\n",
    "            timeout=timeout\n",
    "        )\n",
    "        print(f\"Status: {response.status_code} - URL: {aws_url}\")\n",
    "\n",
    "        if response.status_code != 200:\n",
    "            print(\"Erro ao acessar a API da AWS.\")\n",
    "            print(response.text[:300])\n",
    "            break\n",
    "\n",
    "        aws_data = response.json()\n",
    "\n",
    "        for sku, produto in aws_data[\"products\"].items():\n",
    "            if produto.get(\"productFamily\") != \"Compute Instance\":\n",
    "                continue\n",
    "\n",
    "            atributos = produto.get(\"attributes\", {})\n",
    "            if atributos.get(\"operatingSystem\") == \"Linux\" and atributos.get(\"tenancy\") == \"Shared\":\n",
    "\n",
    "                terms = aws_data[\"terms\"][\"OnDemand\"].get(sku, {})\n",
    "                for term_key, term_data in terms.items():\n",
    "                    price_dimensions = term_data.get(\"priceDimensions\", {})\n",
    "                    for dimension_key, dimension in price_dimensions.items():\n",
    "                        try:\n",
    "                            preco = {\n",
    "                                \"cloud\": \"AWS\",\n",
    "                                \"sku\": sku,\n",
    "                                \"instanceType\": atributos.get(\"instanceType\"),\n",
    "                                \"vcpu\": atributos.get(\"vcpu\"),\n",
    "                                \"memory\": atributos.get(\"memory\"),\n",
    "                                \"region\": atributos.get(\"location\"),\n",
    "                                \"price\": float(dimension[\"pricePerUnit\"][\"USD\"]),\n",
    "                                \"unit\": dimension.get(\"unit\")\n",
    "                            }\n",
    "                            aws_precos.append(preco)\n",
    "                        except (KeyError, TypeError, ValueError) as e:\n",
    "                            print(f\"Erro ao extrair preço: {e}\")\n",
    "\n",
    "        success = True\n",
    "        time.sleep(1)\n",
    "\n",
    "    except requests.exceptions.Timeout:\n",
    "        retries += 1\n",
    "        print(f\"Timeout. Tentativa {retries}/{max_retries}\")\n",
    "        time.sleep(5)\n",
    "\n",
    "    except requests.exceptions.RequestException as e:\n",
    "        print(f\"Erro na requisição: {e}\")\n",
    "        break\n",
    "\n",
    "    except ValueError:\n",
    "        print(\"Erro ao decodificar JSON:\")\n",
    "        print(response.text[:300])\n",
    "        break\n",
    "\n",
    "if not success and retries >= max_retries:\n",
    "    print(\"Número máximo de tentativas alcançado. Encerrando processo.\")\n",
    "\n",
    "# Criação do DataFrame, se houver dados\n",
    "if aws_precos:\n",
    "    df_aws = pd.DataFrame(aws_precos)\n",
    "else:\n",
    "    print(\"Nenhum dado coletado da AWS.\")\n"
   ]
  },
  {
   "cell_type": "markdown",
   "id": "599a7488-1121-4a5f-a1d9-eb7f1c6e19d4",
   "metadata": {},
   "source": [
    "#### Ingestão dos dados de Azure pricing calculator\n",
    "Este código obtém preços das máquinas virtuais da Azure via API pública, navegando por todas as páginas disponíveis. Depois, filtra os preços em dólares (USD) e organiza os dados em um DataFrame com colunas padronizadas para facilitar análises. Informações extraídas:\n",
    "\n",
    "- **`instanceType`**: Tipo da máquina virtual (nome do produto).  \n",
    "- **`sku`**: Código único da oferta.  \n",
    "- **`region`**: Região da Azure onde a VM está disponível.  \n",
    "- **`price`**: Preço unitário em dólares (USD).  \n",
    "- **`unit`**: Unidade de medida do preço (ex: hora, GB).  \n",
    "- **`cloud`**: Nome da nuvem (fixo: `\"Azure\"`).  \n"
   ]
  },
  {
   "cell_type": "code",
   "execution_count": 3,
   "id": "d2672705-18b3-4e82-8623-f828467e5145",
   "metadata": {
    "scrolled": true
   },
   "outputs": [],
   "source": [
    "import requests\n",
    "import pandas as pd\n",
    "import time\n",
    "\n",
    "azure_url = \"https://prices.azure.com/api/retail/prices?$filter=serviceName%20eq%20'Virtual%20Machines'\"\n",
    "todos_precos = []\n",
    "max_retries = 3  # Maximum number of retries for failed requests\n",
    "timeout = 30  # Timeout for requests in seconds\n",
    "\n",
    "while azure_url:\n",
    "    retries = 0\n",
    "    success = False\n",
    "    \n",
    "    while not success and retries < max_retries:\n",
    "        try:\n",
    "            # Add timeout to prevent hanging requests\n",
    "            response = requests.get(\n",
    "                azure_url, \n",
    "                headers={\"User-Agent\": \"Mozilla/5.0\"}, \n",
    "                timeout=timeout\n",
    "            )\n",
    "            #print(f\"Status: {response.status_code} - URL: {azure_url}\")\n",
    "            \n",
    "            if response.status_code != 200:\n",
    "                print(\"Erro ao acessar a API.\")\n",
    "                print(response.text[:300])\n",
    "                break\n",
    "\n",
    "            data = response.json()\n",
    "            \n",
    "            if \"Items\" not in data:\n",
    "                print(\"Resposta sem campo 'Items'\")\n",
    "                print(data)\n",
    "                break\n",
    "\n",
    "            todos_precos.extend(data[\"Items\"])\n",
    "            \n",
    "            # Get next page link or None if we're done\n",
    "            azure_url = data.get(\"NextPageLink\")\n",
    "           \n",
    "            time.sleep(1)\n",
    "            \n",
    "            success = True\n",
    "            \n",
    "        except requests.exceptions.Timeout:\n",
    "            retries += 1\n",
    "            print(f\"Tempo esgotado. Retentativa {retries}/{max_retries}\")\n",
    "            time.sleep(5)  \n",
    "            \n",
    "        except requests.exceptions.RequestException as e:\n",
    "            print(\"Erro na requisição:\", e)\n",
    "            break\n",
    "            \n",
    "        except ValueError:\n",
    "            print(\"Erro ao decodificar JSON:\")\n",
    "            print(response.text[:300])\n",
    "            break\n",
    "    \n",
    "    # parar loop em caso de exaustão de tenntativas\n",
    "    if not success and retries >= max_retries:\n",
    "        print(\"Máximo de tentativas alcançadas.\")\n",
    "        break\n",
    "\n",
    "# Criação do DataFrame (caso não tenha ocorrido erro antes)\n",
    "if todos_precos:\n",
    "    df_azure = pd.DataFrame(todos_precos)\n",
    "    df_azure = df_azure[df_azure[\"currencyCode\"] == \"USD\"]\n",
    "    df_azure = df_azure[[\"productName\", \"skuName\", \"armRegionName\", \"retailPrice\", \"unitOfMeasure\"]]\n",
    "    df_azure = df_azure.rename(columns={\n",
    "        \"productName\": \"instanceType\",\n",
    "        \"skuName\": \"sku\",\n",
    "        \"armRegionName\": \"region\",\n",
    "        \"retailPrice\": \"price\",\n",
    "        \"unitOfMeasure\": \"unit\"\n",
    "    })\n",
    "    df_azure[\"cloud\"] = \"Azure\"\n",
    "else:\n",
    "    print(\"Nenhum dado coletado.\")"
   ]
  },
  {
   "cell_type": "code",
   "execution_count": 360,
   "id": "08832843-65d5-4a0e-8a91-d8e709f84136",
   "metadata": {},
   "outputs": [
    {
     "data": {
      "text/plain": [
       "482376"
      ]
     },
     "execution_count": 360,
     "metadata": {},
     "output_type": "execute_result"
    }
   ],
   "source": [
    "df_azure['price'].count()"
   ]
  },
  {
   "cell_type": "code",
   "execution_count": 7,
   "id": "aece5447-28ff-42ee-8d04-937b88927099",
   "metadata": {},
   "outputs": [],
   "source": [
    "#armazenamento dos dados em variáveis auxiliares das requisções para não ocorrer sobrescrita\n",
    "df_aws_all = df_aws\n",
    "df_azure_all = df_azure"
   ]
  },
  {
   "cell_type": "markdown",
   "id": "a5189fce-5d48-4b0a-81c0-e4792552a7b4",
   "metadata": {},
   "source": [
    "    A seleção aleatória de 7.000 dados foi aplicada apenas à AWS para equilibrar o volume em relação à Azure, que já possui menos registros, principalmente após o merge da estrtégia adotada pare ter valores de 'vcpu' e 'memory' das intâncias requisitas do conjunto de dados da Azure. Isso evita viés nas análises comparativas, garantindo que os dois conjuntos tenham representatividade semelhante"
   ]
  },
  {
   "cell_type": "code",
   "execution_count": 312,
   "id": "a8d6875e-74bc-453a-94c6-a3e4d324040b",
   "metadata": {},
   "outputs": [],
   "source": [
    "data_aws = df_aws_all.sample(n=7000, random_state=42)"
   ]
  },
  {
   "cell_type": "markdown",
   "id": "d7f5a376-dac4-416a-8280-c6f5ad914529",
   "metadata": {},
   "source": [
    "#### Pré-processamento\n",
    "    O pré-processamento vai envolver o tratamento da  estrutura dos dos dados a serem análisados, assim como remoção de possíveis valores nulos e dados não necessários para análise. "
   ]
  },
  {
   "cell_type": "markdown",
   "id": "e1a1bdb2-c29b-4c5f-98f2-ac08f151e697",
   "metadata": {},
   "source": [
    "    O dódigo abaixo é uma estratégia adotada para pegar dados de specs (vcpu e memory) de um JSON, com base no valor de SKU de uma instância do conjunto de dados da Azure. O JSON contem a seguinte estrtura para cada campo do JSON:\n",
    "```json\n",
    "{\n",
    "  \"armSkuName\": \"[nome de SKU (tipo e série do recurso)]\",\n",
    "  \"vcpu\": \"[número de CPUs virtuais disponíveis em uma VM com base no valor de SKU]\",\n",
    "  \"memory\": \"[quantidade de memória RAM (GB) em uma VM com base no valor de SKU ]\"\n",
    "}\n",
    "    Essa abordagem serve para buscar possíveis valores importantes para análise de custo de uma VM da Azure (não é possível requisitar diretamente, então é nessário buscar outras formas de obter dados de specs). Os dados de specs desses JSON foram extraídos dos sites onde estão publicados specs de VMs."
   ]
  },
  {
   "cell_type": "markdown",
   "id": "ff71c3ae-c479-4349-a11f-7a2fb48c3233",
   "metadata": {},
   "source": [
    "Link de acesso:\n",
    "[Lista de tamanho de VMs](https://learn.microsoft.com/en-us/azure/virtual-machines/sizes/overview?tabs=breakdownseries%2Cgeneralsizelist%2Ccomputesizelist%2Cmemorysizelist%2Cstoragesizelist%2Cgpusizelist%2Cfpgasizelist%2Chpcsizelist#general-purpose)"
   ]
  },
  {
   "cell_type": "code",
   "execution_count": 32,
   "id": "d715f098-0613-4ecd-a1f9-a695cedc9231",
   "metadata": {},
   "outputs": [
    {
     "name": "stdout",
     "output_type": "stream",
     "text": [
      "                            instanceType                    sku  \\\n",
      "0           Virtual Machines Dav4 Series            D2a v4 Spot   \n",
      "1  Virtual Machines Easv6 Series Windows              E4-2as v6   \n",
      "2  Virtual Machines Easv6 Series Windows              E4-2as v6   \n",
      "3  Virtual Machines Dasv4 Series Windows  D16as v4 Low Priority   \n",
      "4  Virtual Machines Dasv4 Series Windows  D16as v4 Low Priority   \n",
      "\n",
      "             region   price    unit  cloud  vcpu  memory  \n",
      "0  indonesiacentral  0.0216  1 Hour  Azure   NaN     NaN  \n",
      "1          uaenorth  0.4780  1 Hour  Azure   NaN     NaN  \n",
      "2          uaenorth  0.2940  1 Hour  Azure   NaN     NaN  \n",
      "3  switzerlandnorth  0.7340  1 Hour  Azure   NaN     NaN  \n",
      "4  switzerlandnorth  0.2200  1 Hour  Azure   NaN     NaN  \n"
     ]
    }
   ],
   "source": [
    "# Carrega o JSON das specs \n",
    "with open(\"azure_specs.json\", \"r\") as f:\n",
    "    specs = json.load(f)\n",
    "\n",
    "df_specs = pd.DataFrame(specs)\n",
    "\n",
    "# Ajusta o nome da coluna para mergear com o dataframe de conjunto de dados da Azure\n",
    "df_specs = df_specs.rename(columns={\"armSkuName\": \"sku\"})\n",
    "\n",
    "# Merge: acrescenta vcpu e memory no df_azure, onde sku é igual ao que está apresentado no conjunto de dados da Azure\n",
    "df_azure_merge = df_azure_all.merge(df_specs, how=\"left\", on=\"sku\")\n",
    "\n",
    "# Veja o resultado\n",
    "print(df_azure_merge.head())"
   ]
  },
  {
   "cell_type": "code",
   "execution_count": 33,
   "id": "b3469dc4-b4f9-4c8a-98bf-ea2699427b17",
   "metadata": {},
   "outputs": [
    {
     "data": {
      "text/html": [
       "<div>\n",
       "<style scoped>\n",
       "    .dataframe tbody tr th:only-of-type {\n",
       "        vertical-align: middle;\n",
       "    }\n",
       "\n",
       "    .dataframe tbody tr th {\n",
       "        vertical-align: top;\n",
       "    }\n",
       "\n",
       "    .dataframe thead th {\n",
       "        text-align: right;\n",
       "    }\n",
       "</style>\n",
       "<table border=\"1\" class=\"dataframe\">\n",
       "  <thead>\n",
       "    <tr style=\"text-align: right;\">\n",
       "      <th></th>\n",
       "      <th>instanceType</th>\n",
       "      <th>sku</th>\n",
       "      <th>region</th>\n",
       "      <th>price</th>\n",
       "      <th>unit</th>\n",
       "      <th>cloud</th>\n",
       "      <th>vcpu</th>\n",
       "      <th>memory</th>\n",
       "    </tr>\n",
       "  </thead>\n",
       "  <tbody>\n",
       "    <tr>\n",
       "      <th>0</th>\n",
       "      <td>Virtual Machines Dav4 Series</td>\n",
       "      <td>D2a v4 Spot</td>\n",
       "      <td>indonesiacentral</td>\n",
       "      <td>0.0216</td>\n",
       "      <td>1 Hour</td>\n",
       "      <td>Azure</td>\n",
       "      <td>NaN</td>\n",
       "      <td>NaN</td>\n",
       "    </tr>\n",
       "    <tr>\n",
       "      <th>1</th>\n",
       "      <td>Virtual Machines Easv6 Series Windows</td>\n",
       "      <td>E4-2as v6</td>\n",
       "      <td>uaenorth</td>\n",
       "      <td>0.4780</td>\n",
       "      <td>1 Hour</td>\n",
       "      <td>Azure</td>\n",
       "      <td>NaN</td>\n",
       "      <td>NaN</td>\n",
       "    </tr>\n",
       "    <tr>\n",
       "      <th>2</th>\n",
       "      <td>Virtual Machines Easv6 Series Windows</td>\n",
       "      <td>E4-2as v6</td>\n",
       "      <td>uaenorth</td>\n",
       "      <td>0.2940</td>\n",
       "      <td>1 Hour</td>\n",
       "      <td>Azure</td>\n",
       "      <td>NaN</td>\n",
       "      <td>NaN</td>\n",
       "    </tr>\n",
       "    <tr>\n",
       "      <th>3</th>\n",
       "      <td>Virtual Machines Dasv4 Series Windows</td>\n",
       "      <td>D16as v4 Low Priority</td>\n",
       "      <td>switzerlandnorth</td>\n",
       "      <td>0.7340</td>\n",
       "      <td>1 Hour</td>\n",
       "      <td>Azure</td>\n",
       "      <td>NaN</td>\n",
       "      <td>NaN</td>\n",
       "    </tr>\n",
       "    <tr>\n",
       "      <th>4</th>\n",
       "      <td>Virtual Machines Dasv4 Series Windows</td>\n",
       "      <td>D16as v4 Low Priority</td>\n",
       "      <td>switzerlandnorth</td>\n",
       "      <td>0.2200</td>\n",
       "      <td>1 Hour</td>\n",
       "      <td>Azure</td>\n",
       "      <td>NaN</td>\n",
       "      <td>NaN</td>\n",
       "    </tr>\n",
       "    <tr>\n",
       "      <th>...</th>\n",
       "      <td>...</td>\n",
       "      <td>...</td>\n",
       "      <td>...</td>\n",
       "      <td>...</td>\n",
       "      <td>...</td>\n",
       "      <td>...</td>\n",
       "      <td>...</td>\n",
       "      <td>...</td>\n",
       "    </tr>\n",
       "    <tr>\n",
       "      <th>482371</th>\n",
       "      <td>Virtual Machines Esv5 Series Windows</td>\n",
       "      <td>E2s v5</td>\n",
       "      <td>brazilsoutheast</td>\n",
       "      <td>0.3530</td>\n",
       "      <td>1 Hour</td>\n",
       "      <td>Azure</td>\n",
       "      <td>NaN</td>\n",
       "      <td>NaN</td>\n",
       "    </tr>\n",
       "    <tr>\n",
       "      <th>482372</th>\n",
       "      <td>Virtual Machines Esv5 Series Windows</td>\n",
       "      <td>E2s v5</td>\n",
       "      <td>brazilsoutheast</td>\n",
       "      <td>0.2610</td>\n",
       "      <td>1 Hour</td>\n",
       "      <td>Azure</td>\n",
       "      <td>NaN</td>\n",
       "      <td>NaN</td>\n",
       "    </tr>\n",
       "    <tr>\n",
       "      <th>482373</th>\n",
       "      <td>Virtual Machines NDsr H100 v5 Series</td>\n",
       "      <td>ND96isrH100v5 Low Priority</td>\n",
       "      <td>southafricanorth</td>\n",
       "      <td>33.7340</td>\n",
       "      <td>1 Hour</td>\n",
       "      <td>Azure</td>\n",
       "      <td>NaN</td>\n",
       "      <td>NaN</td>\n",
       "    </tr>\n",
       "    <tr>\n",
       "      <th>482374</th>\n",
       "      <td>Virtual Machines Fasv6 Series Windows</td>\n",
       "      <td>F1as v6</td>\n",
       "      <td>swedensouth</td>\n",
       "      <td>0.1410</td>\n",
       "      <td>1 Hour</td>\n",
       "      <td>Azure</td>\n",
       "      <td>NaN</td>\n",
       "      <td>NaN</td>\n",
       "    </tr>\n",
       "    <tr>\n",
       "      <th>482375</th>\n",
       "      <td>Virtual Machines Fasv6 Series Windows</td>\n",
       "      <td>F1as v6</td>\n",
       "      <td>swedensouth</td>\n",
       "      <td>0.0953</td>\n",
       "      <td>1 Hour</td>\n",
       "      <td>Azure</td>\n",
       "      <td>NaN</td>\n",
       "      <td>NaN</td>\n",
       "    </tr>\n",
       "  </tbody>\n",
       "</table>\n",
       "<p>482376 rows × 8 columns</p>\n",
       "</div>"
      ],
      "text/plain": [
       "                                 instanceType                         sku  \\\n",
       "0                Virtual Machines Dav4 Series                 D2a v4 Spot   \n",
       "1       Virtual Machines Easv6 Series Windows                   E4-2as v6   \n",
       "2       Virtual Machines Easv6 Series Windows                   E4-2as v6   \n",
       "3       Virtual Machines Dasv4 Series Windows       D16as v4 Low Priority   \n",
       "4       Virtual Machines Dasv4 Series Windows       D16as v4 Low Priority   \n",
       "...                                       ...                         ...   \n",
       "482371   Virtual Machines Esv5 Series Windows                      E2s v5   \n",
       "482372   Virtual Machines Esv5 Series Windows                      E2s v5   \n",
       "482373   Virtual Machines NDsr H100 v5 Series  ND96isrH100v5 Low Priority   \n",
       "482374  Virtual Machines Fasv6 Series Windows                     F1as v6   \n",
       "482375  Virtual Machines Fasv6 Series Windows                     F1as v6   \n",
       "\n",
       "                  region    price    unit  cloud  vcpu  memory  \n",
       "0       indonesiacentral   0.0216  1 Hour  Azure   NaN     NaN  \n",
       "1               uaenorth   0.4780  1 Hour  Azure   NaN     NaN  \n",
       "2               uaenorth   0.2940  1 Hour  Azure   NaN     NaN  \n",
       "3       switzerlandnorth   0.7340  1 Hour  Azure   NaN     NaN  \n",
       "4       switzerlandnorth   0.2200  1 Hour  Azure   NaN     NaN  \n",
       "...                  ...      ...     ...    ...   ...     ...  \n",
       "482371   brazilsoutheast   0.3530  1 Hour  Azure   NaN     NaN  \n",
       "482372   brazilsoutheast   0.2610  1 Hour  Azure   NaN     NaN  \n",
       "482373  southafricanorth  33.7340  1 Hour  Azure   NaN     NaN  \n",
       "482374       swedensouth   0.1410  1 Hour  Azure   NaN     NaN  \n",
       "482375       swedensouth   0.0953  1 Hour  Azure   NaN     NaN  \n",
       "\n",
       "[482376 rows x 8 columns]"
      ]
     },
     "execution_count": 33,
     "metadata": {},
     "output_type": "execute_result"
    }
   ],
   "source": [
    "df_azure_merge"
   ]
  },
  {
   "cell_type": "markdown",
   "id": "3c73e34d-5e47-41c0-b4c7-fd6a921166c0",
   "metadata": {},
   "source": [
    "    "
   ]
  },
  {
   "cell_type": "code",
   "execution_count": 313,
   "id": "eb955f01-faa2-4bd1-9b94-b5853098470d",
   "metadata": {},
   "outputs": [],
   "source": [
    "df_azure_merge.dropna(inplace=True) "
   ]
  },
  {
   "cell_type": "code",
   "execution_count": 314,
   "id": "1d09b1b1-6f11-4814-9b1a-1e1da2e4b7ba",
   "metadata": {},
   "outputs": [],
   "source": [
    "data_azure = df_azure_merge"
   ]
  },
  {
   "cell_type": "code",
   "execution_count": 315,
   "id": "3543e0e5-970e-4689-848d-bf8e2bd554d7",
   "metadata": {},
   "outputs": [
    {
     "name": "stdout",
     "output_type": "stream",
     "text": [
      "cloud           0\n",
      "sku             0\n",
      "instanceType    0\n",
      "vcpu            0\n",
      "memory          0\n",
      "region          0\n",
      "price           0\n",
      "unit            0\n",
      "dtype: int64\n",
      "instanceType    0\n",
      "sku             0\n",
      "region          0\n",
      "price           0\n",
      "unit            0\n",
      "cloud           0\n",
      "vcpu            0\n",
      "memory          0\n",
      "dtype: int64\n"
     ]
    }
   ],
   "source": [
    "print(data_aws.isnull().sum())\n",
    "print(data_azure.isnull().sum())"
   ]
  },
  {
   "cell_type": "code",
   "execution_count": 316,
   "id": "93dee429-6bd9-4cf9-a1bd-ae090445817c",
   "metadata": {},
   "outputs": [
    {
     "name": "stdout",
     "output_type": "stream",
     "text": [
      "cloud           0\n",
      "sku             0\n",
      "instanceType    0\n",
      "vcpu            0\n",
      "memory          0\n",
      "region          0\n",
      "price           0\n",
      "unit            0\n",
      "dtype: int64\n",
      "instanceType    0\n",
      "sku             0\n",
      "region          0\n",
      "price           0\n",
      "unit            0\n",
      "cloud           0\n",
      "vcpu            0\n",
      "memory          0\n",
      "dtype: int64\n"
     ]
    }
   ],
   "source": [
    "data_aws.dropna(inplace=True)  # ou df.fillna()ch\n",
    "data_azure.dropna(inplace=True)  # ou df.fillna()\n",
    "print(data_aws.isnull().sum())\n",
    "print(data_azure.isnull().sum())"
   ]
  },
  {
   "cell_type": "code",
   "execution_count": 317,
   "id": "6c991a57-6c37-49fd-ad15-3d93aa3a4a7e",
   "metadata": {},
   "outputs": [],
   "source": [
    "#remoção de colunas dispensáveis para análise \n",
    "data_aws = data_aws.drop(columns=['unit'])\n",
    "data_azure = data_azure.drop(columns=['unit'])"
   ]
  },
  {
   "cell_type": "code",
   "execution_count": 318,
   "id": "245ccc68-4930-4244-8c4e-0ce48370787b",
   "metadata": {},
   "outputs": [
    {
     "data": {
      "text/html": [
       "<div>\n",
       "<style scoped>\n",
       "    .dataframe tbody tr th:only-of-type {\n",
       "        vertical-align: middle;\n",
       "    }\n",
       "\n",
       "    .dataframe tbody tr th {\n",
       "        vertical-align: top;\n",
       "    }\n",
       "\n",
       "    .dataframe thead th {\n",
       "        text-align: right;\n",
       "    }\n",
       "</style>\n",
       "<table border=\"1\" class=\"dataframe\">\n",
       "  <thead>\n",
       "    <tr style=\"text-align: right;\">\n",
       "      <th></th>\n",
       "      <th>cloud</th>\n",
       "      <th>sku</th>\n",
       "      <th>instanceType</th>\n",
       "      <th>vcpu</th>\n",
       "      <th>memory</th>\n",
       "      <th>region</th>\n",
       "      <th>price</th>\n",
       "    </tr>\n",
       "  </thead>\n",
       "  <tbody>\n",
       "    <tr>\n",
       "      <th>23261</th>\n",
       "      <td>AWS</td>\n",
       "      <td>K7F84HY8MP563GJY</td>\n",
       "      <td>c5ad.16xlarge</td>\n",
       "      <td>64</td>\n",
       "      <td>128 GiB</td>\n",
       "      <td>US East (N. Virginia)</td>\n",
       "      <td>10.43200</td>\n",
       "    </tr>\n",
       "    <tr>\n",
       "      <th>108011</th>\n",
       "      <td>AWS</td>\n",
       "      <td>TMXCG3VWVV2DSMVH</td>\n",
       "      <td>i3en.12xlarge</td>\n",
       "      <td>48</td>\n",
       "      <td>384 GiB</td>\n",
       "      <td>Asia Pacific (Hong Kong)</td>\n",
       "      <td>0.00000</td>\n",
       "    </tr>\n",
       "    <tr>\n",
       "      <th>15192</th>\n",
       "      <td>AWS</td>\n",
       "      <td>T4BA3WWY9UNCSB5Q</td>\n",
       "      <td>r6i.xlarge</td>\n",
       "      <td>4</td>\n",
       "      <td>32 GiB</td>\n",
       "      <td>Europe (Zurich)</td>\n",
       "      <td>0.00000</td>\n",
       "    </tr>\n",
       "    <tr>\n",
       "      <th>17078</th>\n",
       "      <td>AWS</td>\n",
       "      <td>9DWNXA5MUMEYHC7N</td>\n",
       "      <td>r7i.12xlarge</td>\n",
       "      <td>48</td>\n",
       "      <td>384 GiB</td>\n",
       "      <td>Asia Pacific (Thailand)</td>\n",
       "      <td>4.06704</td>\n",
       "    </tr>\n",
       "    <tr>\n",
       "      <th>71572</th>\n",
       "      <td>AWS</td>\n",
       "      <td>78XYAN2AGWG45DGE</td>\n",
       "      <td>m5d.2xlarge</td>\n",
       "      <td>8</td>\n",
       "      <td>32 GiB</td>\n",
       "      <td>Asia Pacific (Osaka)</td>\n",
       "      <td>3.58400</td>\n",
       "    </tr>\n",
       "    <tr>\n",
       "      <th>...</th>\n",
       "      <td>...</td>\n",
       "      <td>...</td>\n",
       "      <td>...</td>\n",
       "      <td>...</td>\n",
       "      <td>...</td>\n",
       "      <td>...</td>\n",
       "      <td>...</td>\n",
       "    </tr>\n",
       "    <tr>\n",
       "      <th>70824</th>\n",
       "      <td>AWS</td>\n",
       "      <td>VJYGEEY9WWEVWPZ8</td>\n",
       "      <td>i3en.large</td>\n",
       "      <td>2</td>\n",
       "      <td>16 GiB</td>\n",
       "      <td>US West (N. California)</td>\n",
       "      <td>0.00000</td>\n",
       "    </tr>\n",
       "    <tr>\n",
       "      <th>41913</th>\n",
       "      <td>AWS</td>\n",
       "      <td>JAWABMBCVNYEFNUR</td>\n",
       "      <td>u7i-6tb.112xlarge</td>\n",
       "      <td>448</td>\n",
       "      <td>6144 GiB</td>\n",
       "      <td>Asia Pacific (Seoul)</td>\n",
       "      <td>129.50705</td>\n",
       "    </tr>\n",
       "    <tr>\n",
       "      <th>130818</th>\n",
       "      <td>AWS</td>\n",
       "      <td>34XFXSWR7Y9RJ6EM</td>\n",
       "      <td>d3en.4xlarge</td>\n",
       "      <td>16</td>\n",
       "      <td>64 GiB</td>\n",
       "      <td>US East (N. Virginia)</td>\n",
       "      <td>2.10300</td>\n",
       "    </tr>\n",
       "    <tr>\n",
       "      <th>104201</th>\n",
       "      <td>AWS</td>\n",
       "      <td>K66X3AAUUA7XKK6A</td>\n",
       "      <td>c5.xlarge</td>\n",
       "      <td>4</td>\n",
       "      <td>8 GiB</td>\n",
       "      <td>AWS GovCloud (US-East)</td>\n",
       "      <td>0.20400</td>\n",
       "    </tr>\n",
       "    <tr>\n",
       "      <th>73115</th>\n",
       "      <td>AWS</td>\n",
       "      <td>WRZDZN94HNMYSWQT</td>\n",
       "      <td>m5.2xlarge</td>\n",
       "      <td>8</td>\n",
       "      <td>32 GiB</td>\n",
       "      <td>US East (N. Virginia)</td>\n",
       "      <td>1.34400</td>\n",
       "    </tr>\n",
       "  </tbody>\n",
       "</table>\n",
       "<p>7000 rows × 7 columns</p>\n",
       "</div>"
      ],
      "text/plain": [
       "       cloud               sku       instanceType vcpu    memory  \\\n",
       "23261    AWS  K7F84HY8MP563GJY      c5ad.16xlarge   64   128 GiB   \n",
       "108011   AWS  TMXCG3VWVV2DSMVH      i3en.12xlarge   48   384 GiB   \n",
       "15192    AWS  T4BA3WWY9UNCSB5Q         r6i.xlarge    4    32 GiB   \n",
       "17078    AWS  9DWNXA5MUMEYHC7N       r7i.12xlarge   48   384 GiB   \n",
       "71572    AWS  78XYAN2AGWG45DGE        m5d.2xlarge    8    32 GiB   \n",
       "...      ...               ...                ...  ...       ...   \n",
       "70824    AWS  VJYGEEY9WWEVWPZ8         i3en.large    2    16 GiB   \n",
       "41913    AWS  JAWABMBCVNYEFNUR  u7i-6tb.112xlarge  448  6144 GiB   \n",
       "130818   AWS  34XFXSWR7Y9RJ6EM       d3en.4xlarge   16    64 GiB   \n",
       "104201   AWS  K66X3AAUUA7XKK6A          c5.xlarge    4     8 GiB   \n",
       "73115    AWS  WRZDZN94HNMYSWQT         m5.2xlarge    8    32 GiB   \n",
       "\n",
       "                          region      price  \n",
       "23261      US East (N. Virginia)   10.43200  \n",
       "108011  Asia Pacific (Hong Kong)    0.00000  \n",
       "15192            Europe (Zurich)    0.00000  \n",
       "17078    Asia Pacific (Thailand)    4.06704  \n",
       "71572       Asia Pacific (Osaka)    3.58400  \n",
       "...                          ...        ...  \n",
       "70824    US West (N. California)    0.00000  \n",
       "41913       Asia Pacific (Seoul)  129.50705  \n",
       "130818     US East (N. Virginia)    2.10300  \n",
       "104201    AWS GovCloud (US-East)    0.20400  \n",
       "73115      US East (N. Virginia)    1.34400  \n",
       "\n",
       "[7000 rows x 7 columns]"
      ]
     },
     "metadata": {},
     "output_type": "display_data"
    },
    {
     "name": "stdout",
     "output_type": "stream",
     "text": [
      "None\n"
     ]
    },
    {
     "data": {
      "text/html": [
       "<div>\n",
       "<style scoped>\n",
       "    .dataframe tbody tr th:only-of-type {\n",
       "        vertical-align: middle;\n",
       "    }\n",
       "\n",
       "    .dataframe tbody tr th {\n",
       "        vertical-align: top;\n",
       "    }\n",
       "\n",
       "    .dataframe thead th {\n",
       "        text-align: right;\n",
       "    }\n",
       "</style>\n",
       "<table border=\"1\" class=\"dataframe\">\n",
       "  <thead>\n",
       "    <tr style=\"text-align: right;\">\n",
       "      <th></th>\n",
       "      <th>instanceType</th>\n",
       "      <th>sku</th>\n",
       "      <th>region</th>\n",
       "      <th>price</th>\n",
       "      <th>cloud</th>\n",
       "      <th>vcpu</th>\n",
       "      <th>memory</th>\n",
       "    </tr>\n",
       "  </thead>\n",
       "  <tbody>\n",
       "    <tr>\n",
       "      <th>206</th>\n",
       "      <td>Virtual Machines Ev5 Series</td>\n",
       "      <td>Standard_E96_v5</td>\n",
       "      <td>northeurope</td>\n",
       "      <td>6.768</td>\n",
       "      <td>Azure</td>\n",
       "      <td>96.0</td>\n",
       "      <td>672.0</td>\n",
       "    </tr>\n",
       "    <tr>\n",
       "      <th>207</th>\n",
       "      <td>Virtual Machines Ev5 Series</td>\n",
       "      <td>Standard_E96_v5</td>\n",
       "      <td>northeurope</td>\n",
       "      <td>34387.000</td>\n",
       "      <td>Azure</td>\n",
       "      <td>96.0</td>\n",
       "      <td>672.0</td>\n",
       "    </tr>\n",
       "    <tr>\n",
       "      <th>208</th>\n",
       "      <td>Virtual Machines Ev5 Series</td>\n",
       "      <td>Standard_E96_v5</td>\n",
       "      <td>northeurope</td>\n",
       "      <td>65809.000</td>\n",
       "      <td>Azure</td>\n",
       "      <td>96.0</td>\n",
       "      <td>672.0</td>\n",
       "    </tr>\n",
       "    <tr>\n",
       "      <th>728</th>\n",
       "      <td>Virtual Machines Mbdsv3 Series</td>\n",
       "      <td>Standard_M48bds_v3</td>\n",
       "      <td>westeurope</td>\n",
       "      <td>5.710</td>\n",
       "      <td>Azure</td>\n",
       "      <td>48.0</td>\n",
       "      <td>384.0</td>\n",
       "    </tr>\n",
       "    <tr>\n",
       "      <th>729</th>\n",
       "      <td>Virtual Machines Mbdsv3 Series</td>\n",
       "      <td>Standard_M48bds_v3</td>\n",
       "      <td>westeurope</td>\n",
       "      <td>29518.000</td>\n",
       "      <td>Azure</td>\n",
       "      <td>48.0</td>\n",
       "      <td>384.0</td>\n",
       "    </tr>\n",
       "    <tr>\n",
       "      <th>...</th>\n",
       "      <td>...</td>\n",
       "      <td>...</td>\n",
       "      <td>...</td>\n",
       "      <td>...</td>\n",
       "      <td>...</td>\n",
       "      <td>...</td>\n",
       "      <td>...</td>\n",
       "    </tr>\n",
       "    <tr>\n",
       "      <th>482059</th>\n",
       "      <td>Virtual Machines Dv5 Series Windows</td>\n",
       "      <td>Standard_D96_v5</td>\n",
       "      <td>italynorth</td>\n",
       "      <td>9.792</td>\n",
       "      <td>Azure</td>\n",
       "      <td>96.0</td>\n",
       "      <td>384.0</td>\n",
       "    </tr>\n",
       "    <tr>\n",
       "      <th>482060</th>\n",
       "      <td>Virtual Machines Dv5 Series Windows</td>\n",
       "      <td>Standard_D96_v5</td>\n",
       "      <td>italynorth</td>\n",
       "      <td>5.376</td>\n",
       "      <td>Azure</td>\n",
       "      <td>96.0</td>\n",
       "      <td>384.0</td>\n",
       "    </tr>\n",
       "    <tr>\n",
       "      <th>482163</th>\n",
       "      <td>Virtual Machines Dv5 Series</td>\n",
       "      <td>Standard_D96_v5</td>\n",
       "      <td>japaneast</td>\n",
       "      <td>5.952</td>\n",
       "      <td>Azure</td>\n",
       "      <td>96.0</td>\n",
       "      <td>384.0</td>\n",
       "    </tr>\n",
       "    <tr>\n",
       "      <th>482164</th>\n",
       "      <td>Virtual Machines Dv5 Series</td>\n",
       "      <td>Standard_D96_v5</td>\n",
       "      <td>japaneast</td>\n",
       "      <td>30762.000</td>\n",
       "      <td>Azure</td>\n",
       "      <td>96.0</td>\n",
       "      <td>384.0</td>\n",
       "    </tr>\n",
       "    <tr>\n",
       "      <th>482165</th>\n",
       "      <td>Virtual Machines Dv5 Series</td>\n",
       "      <td>Standard_D96_v5</td>\n",
       "      <td>japaneast</td>\n",
       "      <td>57875.000</td>\n",
       "      <td>Azure</td>\n",
       "      <td>96.0</td>\n",
       "      <td>384.0</td>\n",
       "    </tr>\n",
       "  </tbody>\n",
       "</table>\n",
       "<p>5747 rows × 7 columns</p>\n",
       "</div>"
      ],
      "text/plain": [
       "                               instanceType                 sku       region  \\\n",
       "206             Virtual Machines Ev5 Series     Standard_E96_v5  northeurope   \n",
       "207             Virtual Machines Ev5 Series     Standard_E96_v5  northeurope   \n",
       "208             Virtual Machines Ev5 Series     Standard_E96_v5  northeurope   \n",
       "728          Virtual Machines Mbdsv3 Series  Standard_M48bds_v3   westeurope   \n",
       "729          Virtual Machines Mbdsv3 Series  Standard_M48bds_v3   westeurope   \n",
       "...                                     ...                 ...          ...   \n",
       "482059  Virtual Machines Dv5 Series Windows     Standard_D96_v5   italynorth   \n",
       "482060  Virtual Machines Dv5 Series Windows     Standard_D96_v5   italynorth   \n",
       "482163          Virtual Machines Dv5 Series     Standard_D96_v5    japaneast   \n",
       "482164          Virtual Machines Dv5 Series     Standard_D96_v5    japaneast   \n",
       "482165          Virtual Machines Dv5 Series     Standard_D96_v5    japaneast   \n",
       "\n",
       "            price  cloud  vcpu  memory  \n",
       "206         6.768  Azure  96.0   672.0  \n",
       "207     34387.000  Azure  96.0   672.0  \n",
       "208     65809.000  Azure  96.0   672.0  \n",
       "728         5.710  Azure  48.0   384.0  \n",
       "729     29518.000  Azure  48.0   384.0  \n",
       "...           ...    ...   ...     ...  \n",
       "482059      9.792  Azure  96.0   384.0  \n",
       "482060      5.376  Azure  96.0   384.0  \n",
       "482163      5.952  Azure  96.0   384.0  \n",
       "482164  30762.000  Azure  96.0   384.0  \n",
       "482165  57875.000  Azure  96.0   384.0  \n",
       "\n",
       "[5747 rows x 7 columns]"
      ]
     },
     "metadata": {},
     "output_type": "display_data"
    },
    {
     "name": "stdout",
     "output_type": "stream",
     "text": [
      "None\n"
     ]
    }
   ],
   "source": [
    "print(display(data_aws))\n",
    "print(display(data_azure))"
   ]
  },
  {
   "cell_type": "markdown",
   "id": "f1164a4e-e0f1-4287-ac7e-a4a3e2c933f1",
   "metadata": {},
   "source": [
    "O histograma abaixo serve verificar a frequência dos valores de preço da AWS e Azure, para entender como essses estão distribuidos.\n",
    "Os dados indicam que a AWS apresenta uma distribuição de preços mais concentrada na faixa de valores baixos, com poucas ocorrências de custos muito elevados. Por outro lado, a Azure demonstra uma dispersão de preços maior e uma amplitude mais ampla, incluindo alguns valores significativamente mais altos. Essa diferença pode sugerir que a Azure oferece serviços mais caros ou com maior grau de configurabilidade e escalabilidade"
   ]
  },
  {
   "cell_type": "markdown",
   "id": "d135cc8c-d8ca-4f85-8adb-8eb7d68609d5",
   "metadata": {},
   "source": [
    "É possível notar que os valores de preço da azure têm valores muito altos, no entanto, os dados foram puxados como VM e analisados que todos possuem dados de dolar por minuto. Como o Random Forest lida com outliers, pode não ter tanto impacto essa diferença. Além disso, foi realizada a tranformação dos dados para ficar na mesma escala, no entanto, a performance dos dois modelos desceram drasticamente. Por isso, a forma original dos dados de preço foram mantidas."
   ]
  },
  {
   "cell_type": "code",
   "execution_count": 319,
   "id": "02354dba-4ded-4848-a7f6-e8c4175221c6",
   "metadata": {},
   "outputs": [
    {
     "data": {
      "image/png": "[encoded data removed]",
      "text/plain": [
       "<Figure size 1200x500 with 2 Axes>"
      ]
     },
     "metadata": {},
     "output_type": "display_data"
    }
   ],
   "source": [
    "aws_prices = data_aws['price']\n",
    "azure_prices = data_azure['price']\n",
    "\n",
    "plt.figure(figsize=(12, 5))\n",
    "\n",
    "#histograma AWS\n",
    "plt.subplot(1, 2, 1)\n",
    "plt.hist(aws_prices, bins=30, color='blue', alpha=0.7)\n",
    "plt.title('Distribuição de Preços - AWS')\n",
    "plt.xlabel('Preço')\n",
    "plt.ylabel('Frequência')\n",
    "plt.grid(True)\n",
    "\n",
    "#histograma Azure\n",
    "plt.subplot(1, 2, 2)\n",
    "plt.hist(azure_prices, bins=30, color='green', alpha=0.7)\n",
    "plt.title('Distribuição de Preços - Azure')\n",
    "plt.xlabel('Preço')\n",
    "plt.ylabel('Frequência')\n",
    "plt.grid(True)\n",
    "\n",
    "plt.tight_layout()\n",
    "plt.show()"
   ]
  },
  {
   "cell_type": "markdown",
   "id": "dceb33f6-7ff0-4101-a1d6-92940f3e2a3d",
   "metadata": {},
   "source": [
    "#### Transformação dos dados\n",
    "    O processo de transformação dos dados envolve uma estratégia com base no formato dos dados exigidos por um modelo de aprendizado de máquina, conjunto de dados númerico e não categórico. Neste problema será usado o Random Forest. Um ML supervisionado. O Random Forest é um modelo de aprendizado de máquina baseado em múltiplas árvores de decisão, usado para tarefas de classificação e regressão. Ele não requer normalização ou transformação dos dados, pois é baseado em divisões de nós (thresholds) e não depende de distâncias ou escala dos valores, o que o torna robusto a variáveis em diferentes escalas."
   ]
  },
  {
   "cell_type": "markdown",
   "id": "9cc48081-6b85-4e13-8e4f-9cd372101389",
   "metadata": {},
   "source": [
    "Técnicas de transformação, como `OneHotEncoder` e `get_dummies`, foram utilizadas e podem ser consideradas boas técnicas para análise de regiões e valores de instâncias importantes. No entanto, a aplicação dessas técnicas trouxe queda na performance observada no processo de avaliação. Portanto, a melhor abordagem foi a utilização da função `LabelEncoder`."
   ]
  },
  {
   "cell_type": "markdown",
   "id": "c75c01be-46ce-473d-bd16-c9f550614029",
   "metadata": {},
   "source": [
    "Função axuliar `enconde_categorical` para tranformar valores categóricos em núméricos de um dataframe.  "
   ]
  },
  {
   "cell_type": "code",
   "execution_count": 320,
   "id": "1373c271-4845-435e-b271-84c0d2c5f98f",
   "metadata": {},
   "outputs": [],
   "source": [
    "def encode_categorical_columns(df):\n",
    "    \"\"\"\n",
    "    Aplica codificação numérica (Label Encoding) nas colunas categóricas de um DataFrame.\n",
    "\n",
    "    Parâmetros:\n",
    "    - df: DataFrame a ser processado.\n",
    "\n",
    "    Retorno:\n",
    "    - df_encoded: DataFrame com colunas categóricas codificadas como inteiros.\n",
    "    \"\"\"\n",
    "    df_encoded = df.copy()\n",
    "    categorical_cols = df_encoded.select_dtypes(include=['object']).columns\n",
    "\n",
    "    le = LabelEncoder()\n",
    "    for col in categorical_cols:\n",
    "        df_encoded[col] = le.fit_transform(df_encoded[col])\n",
    "\n",
    "    return df_encoded"
   ]
  },
  {
   "cell_type": "markdown",
   "id": "d822641d-9532-43a7-85fb-7e9f821c609a",
   "metadata": {},
   "source": [
    "##### Tratamento dos dados de Azure e AWS para análise individual dos dados."
   ]
  },
  {
   "cell_type": "code",
   "execution_count": 321,
   "id": "9ed753c7-42aa-43c9-b9cc-083e6c7cb7db",
   "metadata": {},
   "outputs": [],
   "source": [
    "#reordena as colunas para padronização de estrutura das colunas\n",
    "data_aws = data_aws[[\"cloud\", \"sku\", \"instanceType\", \"vcpu\", \"memory\", \"region\", \"price\"]]\n",
    "data_azure = data_azure[[\"cloud\", \"sku\", \"instanceType\", \"vcpu\", \"memory\", \"region\", \"price\"]]"
   ]
  },
  {
   "cell_type": "code",
   "execution_count": 323,
   "id": "f93c03f6-624c-4d16-8568-c286e1637b94",
   "metadata": {},
   "outputs": [],
   "source": [
    "#tratamento separados dos dados da azure para lidar com strings e transformar em dados numericos\n",
    "#para o processo de análise por parte do modelo de aprendizado de máquina que será utilizado\n",
    "data_aws[\"memory\"] = data_aws[\"memory\"].str.replace(\" GiB\", \"\").astype(float)"
   ]
  },
  {
   "cell_type": "code",
   "execution_count": 324,
   "id": "fa5c78b4-dce3-427a-90e2-6eef6b9a2d40",
   "metadata": {},
   "outputs": [],
   "source": [
    "data_azure[\"vcpu\"] = pd.to_numeric(data_azure[\"vcpu\"], errors=\"coerce\")\n",
    "data_aws[\"vcpu\"] = pd.to_numeric(data_aws[\"vcpu\"], errors=\"coerce\")"
   ]
  },
  {
   "cell_type": "code",
   "execution_count": 325,
   "id": "14c195c2-9b4f-40ca-91e6-9c80b022b1a9",
   "metadata": {},
   "outputs": [],
   "source": [
    "#remoção da coluna 'cloud' porque ela será armazenada no conjunto com os dois dados de AWS e Azure \n",
    "#para saber a origem dos dados quando for unido em \"multicloud\"\n",
    "data_azure = encode_categorical_columns(data_azure.drop(columns=['cloud']))\n",
    "data_aws = encode_categorical_columns(data_aws.drop(columns=['cloud']))"
   ]
  },
  {
   "cell_type": "code",
   "execution_count": 326,
   "id": "d265df4b-f4c6-464b-bce0-4dc40be3051c",
   "metadata": {},
   "outputs": [
    {
     "data": {
      "text/html": [
       "<div>\n",
       "<style scoped>\n",
       "    .dataframe tbody tr th:only-of-type {\n",
       "        vertical-align: middle;\n",
       "    }\n",
       "\n",
       "    .dataframe tbody tr th {\n",
       "        vertical-align: top;\n",
       "    }\n",
       "\n",
       "    .dataframe thead th {\n",
       "        text-align: right;\n",
       "    }\n",
       "</style>\n",
       "<table border=\"1\" class=\"dataframe\">\n",
       "  <thead>\n",
       "    <tr style=\"text-align: right;\">\n",
       "      <th></th>\n",
       "      <th>sku</th>\n",
       "      <th>instanceType</th>\n",
       "      <th>vcpu</th>\n",
       "      <th>memory</th>\n",
       "      <th>region</th>\n",
       "      <th>price</th>\n",
       "    </tr>\n",
       "  </thead>\n",
       "  <tbody>\n",
       "    <tr>\n",
       "      <th>23261</th>\n",
       "      <td>3898</td>\n",
       "      <td>33</td>\n",
       "      <td>64</td>\n",
       "      <td>128.0</td>\n",
       "      <td>69</td>\n",
       "      <td>10.43200</td>\n",
       "    </tr>\n",
       "    <tr>\n",
       "      <th>108011</th>\n",
       "      <td>5610</td>\n",
       "      <td>255</td>\n",
       "      <td>48</td>\n",
       "      <td>384.0</td>\n",
       "      <td>4</td>\n",
       "      <td>0.00000</td>\n",
       "    </tr>\n",
       "    <tr>\n",
       "      <th>15192</th>\n",
       "      <td>5485</td>\n",
       "      <td>611</td>\n",
       "      <td>4</td>\n",
       "      <td>32.0</td>\n",
       "      <td>39</td>\n",
       "      <td>0.00000</td>\n",
       "    </tr>\n",
       "    <tr>\n",
       "      <th>17078</th>\n",
       "      <td>1626</td>\n",
       "      <td>665</td>\n",
       "      <td>48</td>\n",
       "      <td>384.0</td>\n",
       "      <td>18</td>\n",
       "      <td>4.06704</td>\n",
       "    </tr>\n",
       "    <tr>\n",
       "      <th>71572</th>\n",
       "      <td>1139</td>\n",
       "      <td>353</td>\n",
       "      <td>8</td>\n",
       "      <td>32.0</td>\n",
       "      <td>12</td>\n",
       "      <td>3.58400</td>\n",
       "    </tr>\n",
       "    <tr>\n",
       "      <th>...</th>\n",
       "      <td>...</td>\n",
       "      <td>...</td>\n",
       "      <td>...</td>\n",
       "      <td>...</td>\n",
       "      <td>...</td>\n",
       "      <td>...</td>\n",
       "    </tr>\n",
       "    <tr>\n",
       "      <th>70824</th>\n",
       "      <td>6042</td>\n",
       "      <td>260</td>\n",
       "      <td>2</td>\n",
       "      <td>16.0</td>\n",
       "      <td>88</td>\n",
       "      <td>0.00000</td>\n",
       "    </tr>\n",
       "    <tr>\n",
       "      <th>41913</th>\n",
       "      <td>3702</td>\n",
       "      <td>732</td>\n",
       "      <td>448</td>\n",
       "      <td>6144.0</td>\n",
       "      <td>15</td>\n",
       "      <td>129.50705</td>\n",
       "    </tr>\n",
       "    <tr>\n",
       "      <th>130818</th>\n",
       "      <td>239</td>\n",
       "      <td>190</td>\n",
       "      <td>16</td>\n",
       "      <td>64.0</td>\n",
       "      <td>69</td>\n",
       "      <td>2.10300</td>\n",
       "    </tr>\n",
       "    <tr>\n",
       "      <th>104201</th>\n",
       "      <td>3887</td>\n",
       "      <td>23</td>\n",
       "      <td>4</td>\n",
       "      <td>8.0</td>\n",
       "      <td>0</td>\n",
       "      <td>0.20400</td>\n",
       "    </tr>\n",
       "    <tr>\n",
       "      <th>73115</th>\n",
       "      <td>6305</td>\n",
       "      <td>329</td>\n",
       "      <td>8</td>\n",
       "      <td>32.0</td>\n",
       "      <td>69</td>\n",
       "      <td>1.34400</td>\n",
       "    </tr>\n",
       "  </tbody>\n",
       "</table>\n",
       "<p>7000 rows × 6 columns</p>\n",
       "</div>"
      ],
      "text/plain": [
       "         sku  instanceType  vcpu  memory  region      price\n",
       "23261   3898            33    64   128.0      69   10.43200\n",
       "108011  5610           255    48   384.0       4    0.00000\n",
       "15192   5485           611     4    32.0      39    0.00000\n",
       "17078   1626           665    48   384.0      18    4.06704\n",
       "71572   1139           353     8    32.0      12    3.58400\n",
       "...      ...           ...   ...     ...     ...        ...\n",
       "70824   6042           260     2    16.0      88    0.00000\n",
       "41913   3702           732   448  6144.0      15  129.50705\n",
       "130818   239           190    16    64.0      69    2.10300\n",
       "104201  3887            23     4     8.0       0    0.20400\n",
       "73115   6305           329     8    32.0      69    1.34400\n",
       "\n",
       "[7000 rows x 6 columns]"
      ]
     },
     "metadata": {},
     "output_type": "display_data"
    },
    {
     "data": {
      "text/html": [
       "<div>\n",
       "<style scoped>\n",
       "    .dataframe tbody tr th:only-of-type {\n",
       "        vertical-align: middle;\n",
       "    }\n",
       "\n",
       "    .dataframe tbody tr th {\n",
       "        vertical-align: top;\n",
       "    }\n",
       "\n",
       "    .dataframe thead th {\n",
       "        text-align: right;\n",
       "    }\n",
       "</style>\n",
       "<table border=\"1\" class=\"dataframe\">\n",
       "  <thead>\n",
       "    <tr style=\"text-align: right;\">\n",
       "      <th></th>\n",
       "      <th>sku</th>\n",
       "      <th>instanceType</th>\n",
       "      <th>vcpu</th>\n",
       "      <th>memory</th>\n",
       "      <th>region</th>\n",
       "      <th>price</th>\n",
       "    </tr>\n",
       "  </thead>\n",
       "  <tbody>\n",
       "    <tr>\n",
       "      <th>206</th>\n",
       "      <td>17</td>\n",
       "      <td>2</td>\n",
       "      <td>96.0</td>\n",
       "      <td>672.0</td>\n",
       "      <td>33</td>\n",
       "      <td>6.768</td>\n",
       "    </tr>\n",
       "    <tr>\n",
       "      <th>207</th>\n",
       "      <td>17</td>\n",
       "      <td>2</td>\n",
       "      <td>96.0</td>\n",
       "      <td>672.0</td>\n",
       "      <td>33</td>\n",
       "      <td>34387.000</td>\n",
       "    </tr>\n",
       "    <tr>\n",
       "      <th>208</th>\n",
       "      <td>17</td>\n",
       "      <td>2</td>\n",
       "      <td>96.0</td>\n",
       "      <td>672.0</td>\n",
       "      <td>33</td>\n",
       "      <td>65809.000</td>\n",
       "    </tr>\n",
       "    <tr>\n",
       "      <th>728</th>\n",
       "      <td>24</td>\n",
       "      <td>4</td>\n",
       "      <td>48.0</td>\n",
       "      <td>384.0</td>\n",
       "      <td>53</td>\n",
       "      <td>5.710</td>\n",
       "    </tr>\n",
       "    <tr>\n",
       "      <th>729</th>\n",
       "      <td>24</td>\n",
       "      <td>4</td>\n",
       "      <td>48.0</td>\n",
       "      <td>384.0</td>\n",
       "      <td>53</td>\n",
       "      <td>29518.000</td>\n",
       "    </tr>\n",
       "    <tr>\n",
       "      <th>...</th>\n",
       "      <td>...</td>\n",
       "      <td>...</td>\n",
       "      <td>...</td>\n",
       "      <td>...</td>\n",
       "      <td>...</td>\n",
       "      <td>...</td>\n",
       "    </tr>\n",
       "    <tr>\n",
       "      <th>482059</th>\n",
       "      <td>7</td>\n",
       "      <td>1</td>\n",
       "      <td>96.0</td>\n",
       "      <td>384.0</td>\n",
       "      <td>22</td>\n",
       "      <td>9.792</td>\n",
       "    </tr>\n",
       "    <tr>\n",
       "      <th>482060</th>\n",
       "      <td>7</td>\n",
       "      <td>1</td>\n",
       "      <td>96.0</td>\n",
       "      <td>384.0</td>\n",
       "      <td>22</td>\n",
       "      <td>5.376</td>\n",
       "    </tr>\n",
       "    <tr>\n",
       "      <th>482163</th>\n",
       "      <td>7</td>\n",
       "      <td>0</td>\n",
       "      <td>96.0</td>\n",
       "      <td>384.0</td>\n",
       "      <td>23</td>\n",
       "      <td>5.952</td>\n",
       "    </tr>\n",
       "    <tr>\n",
       "      <th>482164</th>\n",
       "      <td>7</td>\n",
       "      <td>0</td>\n",
       "      <td>96.0</td>\n",
       "      <td>384.0</td>\n",
       "      <td>23</td>\n",
       "      <td>30762.000</td>\n",
       "    </tr>\n",
       "    <tr>\n",
       "      <th>482165</th>\n",
       "      <td>7</td>\n",
       "      <td>0</td>\n",
       "      <td>96.0</td>\n",
       "      <td>384.0</td>\n",
       "      <td>23</td>\n",
       "      <td>57875.000</td>\n",
       "    </tr>\n",
       "  </tbody>\n",
       "</table>\n",
       "<p>5747 rows × 6 columns</p>\n",
       "</div>"
      ],
      "text/plain": [
       "        sku  instanceType  vcpu  memory  region      price\n",
       "206      17             2  96.0   672.0      33      6.768\n",
       "207      17             2  96.0   672.0      33  34387.000\n",
       "208      17             2  96.0   672.0      33  65809.000\n",
       "728      24             4  48.0   384.0      53      5.710\n",
       "729      24             4  48.0   384.0      53  29518.000\n",
       "...     ...           ...   ...     ...     ...        ...\n",
       "482059    7             1  96.0   384.0      22      9.792\n",
       "482060    7             1  96.0   384.0      22      5.376\n",
       "482163    7             0  96.0   384.0      23      5.952\n",
       "482164    7             0  96.0   384.0      23  30762.000\n",
       "482165    7             0  96.0   384.0      23  57875.000\n",
       "\n",
       "[5747 rows x 6 columns]"
      ]
     },
     "metadata": {},
     "output_type": "display_data"
    }
   ],
   "source": [
    "display(data_aws)\n",
    "display(data_azure)"
   ]
  },
  {
   "cell_type": "code",
   "execution_count": 363,
   "id": "b28ec802-783f-48ad-9a37-bf7c5f1a6021",
   "metadata": {},
   "outputs": [],
   "source": [
    "data_aws.to_csv('dados_aws_tranformados.csv', index=False)\n",
    "data_azure.to_csv('dados_azure_tranformados.csv', index=False)"
   ]
  },
  {
   "cell_type": "markdown",
   "id": "2666d1ae-307f-464f-aa18-022ee1288096",
   "metadata": {},
   "source": [
    "##### Tratamento dos dados de Azure e AWS para análise conjunta dos dados."
   ]
  },
  {
   "cell_type": "code",
   "execution_count": 329,
   "id": "24d6d9c4-dad7-4b46-8106-5feae27dd7d5",
   "metadata": {},
   "outputs": [],
   "source": [
    "# Junta os dois datasets\n",
    "df_multicloud = pd.concat(\n",
    "    [data_aws[['price', 'vcpu', 'memory']], data_azure[['price', 'vcpu', 'memory']]],\n",
    "    axis=0,\n",
    "    ignore_index=True\n",
    ")"
   ]
  },
  {
   "cell_type": "code",
   "execution_count": 330,
   "id": "378e88fd-2f97-4b32-92d4-82219da6d651",
   "metadata": {},
   "outputs": [
    {
     "data": {
      "text/html": [
       "<div>\n",
       "<style scoped>\n",
       "    .dataframe tbody tr th:only-of-type {\n",
       "        vertical-align: middle;\n",
       "    }\n",
       "\n",
       "    .dataframe tbody tr th {\n",
       "        vertical-align: top;\n",
       "    }\n",
       "\n",
       "    .dataframe thead th {\n",
       "        text-align: right;\n",
       "    }\n",
       "</style>\n",
       "<table border=\"1\" class=\"dataframe\">\n",
       "  <thead>\n",
       "    <tr style=\"text-align: right;\">\n",
       "      <th></th>\n",
       "      <th>price</th>\n",
       "      <th>vcpu</th>\n",
       "      <th>memory</th>\n",
       "    </tr>\n",
       "  </thead>\n",
       "  <tbody>\n",
       "    <tr>\n",
       "      <th>0</th>\n",
       "      <td>10.43200</td>\n",
       "      <td>64.0</td>\n",
       "      <td>128.0</td>\n",
       "    </tr>\n",
       "    <tr>\n",
       "      <th>1</th>\n",
       "      <td>0.00000</td>\n",
       "      <td>48.0</td>\n",
       "      <td>384.0</td>\n",
       "    </tr>\n",
       "    <tr>\n",
       "      <th>2</th>\n",
       "      <td>0.00000</td>\n",
       "      <td>4.0</td>\n",
       "      <td>32.0</td>\n",
       "    </tr>\n",
       "    <tr>\n",
       "      <th>3</th>\n",
       "      <td>4.06704</td>\n",
       "      <td>48.0</td>\n",
       "      <td>384.0</td>\n",
       "    </tr>\n",
       "    <tr>\n",
       "      <th>4</th>\n",
       "      <td>3.58400</td>\n",
       "      <td>8.0</td>\n",
       "      <td>32.0</td>\n",
       "    </tr>\n",
       "    <tr>\n",
       "      <th>...</th>\n",
       "      <td>...</td>\n",
       "      <td>...</td>\n",
       "      <td>...</td>\n",
       "    </tr>\n",
       "    <tr>\n",
       "      <th>12742</th>\n",
       "      <td>9.79200</td>\n",
       "      <td>96.0</td>\n",
       "      <td>384.0</td>\n",
       "    </tr>\n",
       "    <tr>\n",
       "      <th>12743</th>\n",
       "      <td>5.37600</td>\n",
       "      <td>96.0</td>\n",
       "      <td>384.0</td>\n",
       "    </tr>\n",
       "    <tr>\n",
       "      <th>12744</th>\n",
       "      <td>5.95200</td>\n",
       "      <td>96.0</td>\n",
       "      <td>384.0</td>\n",
       "    </tr>\n",
       "    <tr>\n",
       "      <th>12745</th>\n",
       "      <td>30762.00000</td>\n",
       "      <td>96.0</td>\n",
       "      <td>384.0</td>\n",
       "    </tr>\n",
       "    <tr>\n",
       "      <th>12746</th>\n",
       "      <td>57875.00000</td>\n",
       "      <td>96.0</td>\n",
       "      <td>384.0</td>\n",
       "    </tr>\n",
       "  </tbody>\n",
       "</table>\n",
       "<p>12747 rows × 3 columns</p>\n",
       "</div>"
      ],
      "text/plain": [
       "             price  vcpu  memory\n",
       "0         10.43200  64.0   128.0\n",
       "1          0.00000  48.0   384.0\n",
       "2          0.00000   4.0    32.0\n",
       "3          4.06704  48.0   384.0\n",
       "4          3.58400   8.0    32.0\n",
       "...            ...   ...     ...\n",
       "12742      9.79200  96.0   384.0\n",
       "12743      5.37600  96.0   384.0\n",
       "12744      5.95200  96.0   384.0\n",
       "12745  30762.00000  96.0   384.0\n",
       "12746  57875.00000  96.0   384.0\n",
       "\n",
       "[12747 rows x 3 columns]"
      ]
     },
     "execution_count": 330,
     "metadata": {},
     "output_type": "execute_result"
    }
   ],
   "source": [
    "df_multicloud"
   ]
  },
  {
   "cell_type": "markdown",
   "id": "59820ff2-617f-4da5-b82e-1d7b788cb26a",
   "metadata": {},
   "source": [
    "#### Separação e treinamento dos dados usando Random Forest\n",
    "    O Treinamento vai estar envolvito tanto na análise individual quanto na análise geral"
   ]
  },
  {
   "cell_type": "markdown",
   "id": "c72c5b9d-4a6e-48f4-a76e-f6776746f6f5",
   "metadata": {},
   "source": [
    "Função auxiliar `split_data` usada para separar os dados entre treino e teste. Possui parâmetros para uma lista de remoção, utilizada para excluir colunas do conjunto de características, a fim de facilitar o processo de eliminação de atributos que podem não ser necessários para o treinamento, e também um parâmetro para indicar a variável-alvo a ser coletada do DataFrame passado como argumento."
   ]
  },
  {
   "cell_type": "code",
   "execution_count": 251,
   "id": "5bc3abe1-1a87-43c3-9c36-2761e7ea601a",
   "metadata": {},
   "outputs": [],
   "source": [
    "def split_data(df, list_remove, variable_name):\n",
    "    \"\"\"\n",
    "    Separa os dados em variáveis independentes (X) e dependente (y), e divide em treino e teste.\n",
    "\n",
    "    Parâmetros:\n",
    "    - df: DataFrame contendo os dados completos\n",
    "    - list_remove: lista de colunas que devem ser removidas de X (inclusive a variável alvo)\n",
    "    - variable_name: string com o nome da variável a ser prevista (target)\n",
    "\n",
    "    Retorna:\n",
    "    - X: DataFrame com as variáveis independentes\n",
    "    - y: Series com a variável dependente\n",
    "    - X_train, X_test, y_train, y_test: conjuntos de treino e teste\n",
    "    \"\"\"\n",
    "    X = df.drop(columns=list_remove)\n",
    "    y = df[variable_name]\n",
    "    return X, y, *train_test_split(X, y, test_size=0.2, random_state=42)"
   ]
  },
  {
   "cell_type": "markdown",
   "id": "048cfc9b-d0b4-428e-8c58-a13e3488fecf",
   "metadata": {},
   "source": [
    "##### Separação e treino do modelo Random Forest com os dados de AWS e Azure\n",
    "    Etapa utilizando os dados preparados de AWS e Azure para o processo de análise individual e identificação de padõres."
   ]
  },
  {
   "cell_type": "code",
   "execution_count": 281,
   "id": "ebb4bf95-34eb-4e8e-ba91-ff4b4ed08918",
   "metadata": {},
   "outputs": [],
   "source": [
    "param_grid = {\n",
    "    'n_estimators': [100, 2000, 1300],\n",
    "    'max_depth': [5, 10, None],\n",
    "    'min_samples_split': [2, 5],\n",
    "    'min_samples_leaf': [1, 2],\n",
    "    'max_features': ['sqrt', 'log2'],\n",
    "    'bootstrap': [True]\n",
    "}"
   ]
  },
  {
   "cell_type": "code",
   "execution_count": 206,
   "id": "b16c84ab-27b1-41a6-a3a1-4875126b7ec7",
   "metadata": {},
   "outputs": [],
   "source": [
    "def run_rf_gridsearch(X_train, y_train, param_grid, random_state=42, cv=5, scoring='r2'):\n",
    "    \"\"\"\n",
    "    Executa GridSearchCV para RandomForestRegressor com dados de treino fornecidos.\n",
    "\n",
    "    Args:\n",
    "        X_train (array-like): Dados de entrada para treino.\n",
    "        y_train (array-like): Rótulos/target para treino.\n",
    "        param_grid (dict): Grade de parâmetros para o GridSearch.\n",
    "        random_state (int): Semente para reprodução.\n",
    "        cv (int): Número de folds para validação cruzada.\n",
    "        scoring (str): Métrica para otimização.\n",
    "\n",
    "    Returns:\n",
    "        best_model: Melhor estimador encontrado.\n",
    "        best_params (dict): Melhores hiperparâmetros encontrados.\n",
    "    \"\"\"\n",
    "\n",
    "    rf = RandomForestRegressor(random_state=random_state)\n",
    "    grid_search = GridSearchCV(estimator=rf, param_grid=param_grid,\n",
    "                               cv=cv, scoring=scoring, n_jobs=-1, verbose=2, error_score='raise')\n",
    "    grid_search.fit(X_train, y_train)\n",
    "\n",
    "    return grid_search.best_estimator_, grid_search.best_params_"
   ]
  },
  {
   "cell_type": "code",
   "execution_count": 331,
   "id": "ef0b441c-527f-47bd-9a07-3737fca37d70",
   "metadata": {},
   "outputs": [
    {
     "name": "stdout",
     "output_type": "stream",
     "text": [
      "Fitting 5 folds for each of 72 candidates, totalling 360 fits\n"
     ]
    }
   ],
   "source": [
    "remove_list = [\"price\", \"sku\"]\n",
    "\n",
    "X_aws, y_aws, X_train_aws, X_test_aws, y_train_aws, y_test_aws = split_data(data_aws, remove_list, 'price')\n",
    "\n",
    "rf_aws, best_params = run_rf_gridsearch(X_train_aws, y_train_aws, param_grid, random_state=42, cv=5, scoring='r2')"
   ]
  },
  {
   "cell_type": "code",
   "execution_count": 332,
   "id": "9a0b227a-22d5-4db0-8412-27c1ed9b52ee",
   "metadata": {},
   "outputs": [
    {
     "name": "stdout",
     "output_type": "stream",
     "text": [
      "Fitting 5 folds for each of 72 candidates, totalling 360 fits\n"
     ]
    }
   ],
   "source": [
    "remove_list = [ \"price\", \"sku\"]\n",
    "\n",
    "X_azure, y_azure, X_train_azure, X_test_azure, y_train_azure, y_test_azure = split_data(data_azure, remove_list, 'price')\n",
    "rf_azure, best_params = run_rf_gridsearch(X_train_azure, y_train_azure, param_grid, random_state=42, cv=5, scoring='r2')"
   ]
  },
  {
   "cell_type": "code",
   "execution_count": 333,
   "id": "90e6f1a3-cafd-434a-bcbf-856842d1188b",
   "metadata": {},
   "outputs": [
    {
     "name": "stdout",
     "output_type": "stream",
     "text": [
      "Fitting 5 folds for each of 72 candidates, totalling 360 fits\n"
     ]
    }
   ],
   "source": [
    "remove_list = [\"price\"]\n",
    "X_mult, y_mult, X_train_mult, X_test_mult, y_train_mult, y_test_mult = split_data(df_multicloud, remove_list, 'price')\n",
    "rf_mult, best_params = run_rf_gridsearch(X_train_mult, y_train_mult, param_grid, random_state=42, cv=5, scoring='r2')"
   ]
  },
  {
   "cell_type": "markdown",
   "id": "a90ce198-2fff-485b-85ab-ff950faf7099",
   "metadata": {},
   "source": [
    "#### Avaliação e análise das predições dos modelos treinados\n",
    "\n",
    "sse processo envolve a análise individual e conjunta dos dados das clouds AWS e Azure.\n",
    "Serão analisadas as respostas dos modelos quanto às métricas R² e RMSE, comumente usadas para avaliar modelos de regressão. Essas duas métricas se comportam da seguinte forma:\n",
    "\n",
    "- R² (Coeficiente de Determinação):  Mede o quanto da variação da variável alvo é explicada pelo modelo. Seus valores geralmente variam de 0 a 1 (podendo ser negativo em alguns casos).  Um valor próximo de 1 indica que o modelo explica bem os dados. Exemplo: um R² de 0,8 significa que 80% da variação da variável dependente é explicada pelo modelo;\n",
    "- RMSE (Root Mean Squared Error): É a raiz quadrada do erro quadrático médio. Mede a média das diferenças entre os valores previstos e os valores reais. Quanto menor o RMSE, melhor o desempenho do modelo.\n",
    "\n",
    "Com uma resposta positiva quanto aos modelos avaliados, o processo de análise envolve o uso das abordagens de importância de características — por meio da função feature_importance, que identifica as principais variáveis segundo o modelo Random Forest — e do modelo de interpretabilidade SHAP.\n",
    "\n",
    "Para consolidar os resultados obtidos e trazer maior confiabilidade e transparência, o SHAP é utilizado com o objetivo de verificar quais características são importantes para o processo de tomada de decisão do modelo, além de entender o comportamento das previsões com base nos valores das suas características.\n",
    "\n",
    "A função auxiliar `evaluate_model` retorna as métricas R² e RMSE de um modelo de predição, com base nos seus valores de y predito e y real.\n",
    "    "
   ]
  },
  {
   "cell_type": "code",
   "execution_count": 230,
   "id": "832c680b-897b-4a47-9232-7067ef62c403",
   "metadata": {},
   "outputs": [],
   "source": [
    "def evaluate_model(y_test, y_pred):\n",
    "    \"\"\"\n",
    "    Calcula e imprime as métricas de avaliação do modelo.\n",
    "\n",
    "    Parâmetros:\n",
    "    - y_test: valores reais da variável alvo no conjunto de teste\n",
    "    - y_pred: valores preditos pelo modelo para o conjunto de teste\n",
    "    \"\"\"\n",
    "    r2 = r2_score(y_test, y_pred)\n",
    "    rmse = root_mean_squared_error(y_test, y_pred)\n",
    "    print(\"Random Forest R²:\", r2)\n",
    "    print(\"Random Forest RMSE:\", rmse)\n",
    "    return r2, rmse"
   ]
  },
  {
   "cell_type": "markdown",
   "id": "1fcb6d28-bcd5-41e6-aca1-571000a44ce8",
   "metadata": {},
   "source": [
    "A função auxiliar `plot_residuals_histogram` gera um histograma para visualizar a distribuição dos resíduos (diferença entre valores reais e preditos), ajudando a avaliar o desempenho e possíveis padrões de erro de um modelo de regressão."
   ]
  },
  {
   "cell_type": "code",
   "execution_count": 343,
   "id": "47879715-10b7-43ed-840e-d16db5cd2b3f",
   "metadata": {},
   "outputs": [],
   "source": [
    "def plot_residuals_histogram(y_true, y_pred, model_name=\"Modelo\"):\n",
    "    \"\"\"\n",
    "    Plota o histograma dos resíduos (diferença entre valores reais e preditos).\n",
    "\n",
    "    Parâmetros:\n",
    "    - y_true: valores reais\n",
    "    - y_pred: valores preditos\n",
    "    - model_name: nome do modelo (usado no título do gráfico)\n",
    "    \"\"\"\n",
    "    residuos = y_true - y_pred\n",
    "\n",
    "    plt.figure(figsize=(8, 6))\n",
    "    sns.histplot(residuos, kde=True, bins=30, color='skyblue')\n",
    "    plt.axvline(0, linestyle='--', color='red', label='Erro zero')\n",
    "    plt.xlabel(\"Resíduo (Real - Predito)\")\n",
    "    plt.ylabel(\"Frequência\")\n",
    "    plt.title(f\"Distribuição dos Resíduos - {model_name}\")\n",
    "    plt.legend()\n",
    "    plt.tight_layout()\n",
    "    plt.show()\n"
   ]
  },
  {
   "cell_type": "markdown",
   "id": "f539ca73-7d25-4c92-b3a0-e0dc6fbaba83",
   "metadata": {},
   "source": [
    "##### Avaliação das predições com os dados da AWS e Azure"
   ]
  },
  {
   "cell_type": "markdown",
   "id": "e1b0f324-7503-42e6-b744-210f59e9b0e2",
   "metadata": {},
   "source": [
    "###### Avaliação AWS"
   ]
  },
  {
   "cell_type": "code",
   "execution_count": 341,
   "id": "368a90fd-7e49-4478-bb0b-d5f4ac94b298",
   "metadata": {},
   "outputs": [
    {
     "name": "stdout",
     "output_type": "stream",
     "text": [
      "Random Forest R²: 0.531139413358447\n",
      "Random Forest RMSE: 15.704137177771692\n"
     ]
    }
   ],
   "source": [
    "y_pred_aws = rf_aws.predict(X_test_aws)\n",
    "r2_aws, rmse_aws = evaluate_model(y_test_aws, y_pred_aws)"
   ]
  },
  {
   "cell_type": "markdown",
   "id": "a1f2c469-d7b3-4b84-b5d7-511d9f7ece83",
   "metadata": {},
   "source": [
    "###### Avaliação Azure"
   ]
  },
  {
   "cell_type": "code",
   "execution_count": 288,
   "id": "997eefb7-e485-4e1b-8af5-19b496be389d",
   "metadata": {},
   "outputs": [
    {
     "name": "stdout",
     "output_type": "stream",
     "text": [
      "Random Forest R²: 0.10373567748200896\n",
      "Random Forest RMSE: 33398.58810833988\n"
     ]
    }
   ],
   "source": [
    "y_pred_azure = rf_azure.predict(X_test_azure)\n",
    "r2, rmse = evaluate_model(y_test_azure, y_pred_azure)"
   ]
  },
  {
   "cell_type": "markdown",
   "id": "afa8f0f9-51e7-4f87-bd3f-110359ec39e6",
   "metadata": {},
   "source": [
    "##### Avaliação das predições com os dados conjunto de AWS e Azure"
   ]
  },
  {
   "cell_type": "code",
   "execution_count": 176,
   "id": "f4a14387-6b78-4711-ae6b-edd08ad55442",
   "metadata": {},
   "outputs": [
    {
     "name": "stdout",
     "output_type": "stream",
     "text": [
      "Random Forest R²: 0.28478378183245234\n",
      "Random Forest RMSE: 172.53250298013768\n"
     ]
    }
   ],
   "source": [
    "y_pred_mult = rf_mult.predict(X_test_mult)\n",
    "\n",
    "r2_mult, rmse_mult = evaluate_model(y_test_mult, y_pred_mult)"
   ]
  },
  {
   "cell_type": "markdown",
   "id": "abd7198c-d689-4b3a-826b-8fed91cb574c",
   "metadata": {},
   "source": [
    "Como o modelo usando os dados de AWS e Azure apresentou baixo desempenho, um gráfico de resíduo pode fornecer insights a respeito dos seus valores de predição e entender possíveis problemas.\n",
    "\n",
    "O gráfico de resíduos mostra a distribuição dos erros do modelo em relação ao valor zero, indicado pela linha vermelha tracejada que representa o erro perfeito. Quando os resíduos se distribuem de forma simétrica ao redor de zero, isso sugere que os erros estão bem balanceados e o modelo não apresenta viés sistemático. Por outro lado, a presença de assimetria ou caudas longas no gráfico pode indicar a existência de viés no modelo ou a presença de outliers, apontando para possíveis problemas na capacidade preditiva do modelo."
   ]
  },
  {
   "cell_type": "markdown",
   "id": "0756f32a-7481-4abe-9ada-6bdc483c80a1",
   "metadata": {},
   "source": [
    "O gráfico mostra uma concentração ainda maior de resíduos próximos de zero, com uma curva mais simétrica e estreita, indicando bom desempenho do modelo. Apesar disso, ainda existem outliers, especialmente positivos, sugerindo que em alguns casos o modelo subestimou os valores reais."
   ]
  },
  {
   "cell_type": "code",
   "execution_count": 344,
   "id": "7a209dfa-fcca-4ebd-9dba-5b6ef8a0bf25",
   "metadata": {},
   "outputs": [
    {
     "data": {
      "image/png": "[encoded data removed]",
      "text/plain": [
       "<Figure size 800x600 with 1 Axes>"
      ]
     },
     "metadata": {},
     "output_type": "display_data"
    }
   ],
   "source": [
    "y_pred = rf_mult.predict(X_test_mult)\n",
    "plot_residuals_histogram(y_test_mult, y_pred, model_name=\"Random Forest Multicloud\")"
   ]
  },
  {
   "cell_type": "markdown",
   "id": "23312786-e68a-47df-87c1-826992e0a3f8",
   "metadata": {},
   "source": [
    "##### Análise individual de AWS e Azure"
   ]
  },
  {
   "cell_type": "markdown",
   "id": "69bcc807-afb9-4103-bf87-72be15c08dfb",
   "metadata": {},
   "source": [
    "A função auxiliar `plot_feature_importance` para plotar as principais caracateríticas por um modelo ML."
   ]
  },
  {
   "cell_type": "code",
   "execution_count": 284,
   "id": "834489d4-cf7d-4d2f-8824-7b75a8a5f9a2",
   "metadata": {},
   "outputs": [],
   "source": [
    "def plot_feature_importance(model, X, model_name, variable_name):\n",
    "    \"\"\"\n",
    "    Plota a importância das características para um modelo Random Forest.\n",
    "\n",
    "    Parâmetros:\n",
    "    - model: modelo treinado (por exemplo, RandomForestRegressor)\n",
    "    - X: DataFrame com as features usadas no treinamento\n",
    "    - variable_name: string com o nome da variável predita\n",
    "    \"\"\"\n",
    "    # Obtem os nomes das features\n",
    "    features = X.columns\n",
    "    # Obtem as importâncias\n",
    "    importances = model.feature_importances_\n",
    "    \n",
    "    # Cria um DataFrame com ambos e ordena pela importância\n",
    "    df_importance = pd.DataFrame({'feature': features, 'importance': importances})\n",
    "    df_importance = df_importance.sort_values(by='importance', ascending=False).head(21)\n",
    "\n",
    "    # Plotagem\n",
    "    plt.figure(figsize=(6, 4))\n",
    "    sns.barplot(x='importance', y='feature', data=df_importance)\n",
    "    plt.xlabel('Importância das características')\n",
    "    plt.ylabel('Características')\n",
    "    plt.title(f'Importância das características - {model_name} ({variable_name})')\n",
    "    plt.tight_layout()\n",
    "    plt.show()"
   ]
  },
  {
   "cell_type": "markdown",
   "id": "4e4a0999-f28f-4156-ba80-7c647db981d8",
   "metadata": {},
   "source": [
    "A função auxiliar `globalShap` para extrair explicações da biblioteca SHAP e plot de uma explicação global envolvendo uma variável-alvo.\n",
    "\n",
    "O gráfico de explicação global para uma variável-alvo, tem no topo, as características mais influentes, indicando sua importância para a predição de um valor contínuo. No eixo $y$, estão listadas as características do conjunto de dados, enquanto no eixo $x$ são exibidos os intervalos dos valores SHAP para cada ponto do gráfico, cada um representando uma amostra dos dados. Os pontos com tonalidades azuladas correspondem a valores baixos da característica, ao passo que os tons avermelhados indicam valores altos. Pontos mais deslocados à esquerda do eixo $x$ indicam menor contribuição da característica para a predição. Em contraste, pontos posicionados mais à direita refletem maior influência da característica na predição da classe analisada. Esse tipo de análise, evidencia a distribuição e o impacto das características na predição de um valor de predição."
   ]
  },
  {
   "cell_type": "code",
   "execution_count": 219,
   "id": "2db241d3-2668-4bf0-8752-046a19a2e038",
   "metadata": {},
   "outputs": [],
   "source": [
    "def globalShap(X, tree_model, nome_modelo, var_pred):\n",
    "    \"\"\"\n",
    "    Gera um gráfico de explicação global usando valores SHAP para modelos baseados em árvores.\n",
    "\n",
    "    Parâmetros:\n",
    "        X (DataFrame ou array-like): Conjunto de dados (features) para explicação.\n",
    "        tree_model (modelo treinado): Modelo baseado em árvores (ex: RandomForest, XGBoost, etc.).\n",
    "        nome_modelo (str): Nome do modelo para título do gráfico.\n",
    "        var_pred (str): Nome da variável predita (usada no título do gráfico).\n",
    "    \"\"\"\n",
    "\n",
    "    # Cria o objeto TreeExplainer para o modelo fornecido\n",
    "    explainer_shap_global = shap.TreeExplainer(tree_model)\n",
    "\n",
    "    # Calcula os valores SHAP para todas as amostras em X\n",
    "    shap_values_global = explainer_shap_global.shap_values(X)\n",
    "\n",
    "    # Cria o gráfico resumo dos valores SHAP\n",
    "    shap.summary_plot(\n",
    "        shap_values_global,  # Valores SHAP calculados\n",
    "        X,                   # Conjunto de dados original\n",
    "        max_display=21,      # Número máximo de variáveis exibidas no gráfico\n",
    "        plot_type=\"dot\",     # Tipo de gráfico (\"dot\" é o padrão e mais usado)\n",
    "        plot_size=(10, 4),   # Tamanho da figura\n",
    "        show=False           # Não exibe imediatamente, para personalizar antes\n",
    "    )\n",
    "\n",
    "    #adiciona título ao gráfico\n",
    "    plt.title(f'{nome_modelo} - Análise global: {var_pred}')\n",
    "\n",
    "    #acessa o objeto da figura e dos eixos principais\n",
    "    fig, ax = plt.gcf(), plt.gca()\n",
    "\n",
    "    #personaliza o eixo x do gráfico principal\n",
    "    ax.set_xlabel(\"Valor SHAP (impacto na saída do modelo)\")\n",
    "\n",
    "    #acessa a barra de cores (colorbar), que é o segundo eixo da figura\n",
    "    cb_ax = fig.axes[1]\n",
    "\n",
    "    #personaliza o rótulo da barra de cores\n",
    "    cb_ax.set_ylabel(\"Valor da característica\")\n",
    "\n",
    "    #exibe o gráfico\n",
    "    plt.show()\n",
    "    return shap_values_global\n"
   ]
  },
  {
   "cell_type": "markdown",
   "id": "6590ca9c-9a6d-4e50-8427-05840896a34a",
   "metadata": {},
   "source": [
    "###### Análise AWS"
   ]
  },
  {
   "cell_type": "markdown",
   "id": "e45c1608-877e-47d5-817f-6ea452ed5f62",
   "metadata": {},
   "source": [
    "Os resultados abaixo evidenciam que o modelo Random Forest considerou valores de quantidade de CPUs, memória e tipo de instância como as características mais importantes para suas predições, conforme o critério de importância baseado na redução de impureza. Portanto, essas variáveis demonstram relevância na avaliação do custo de uma VM na AWS.\n",
    "\n",
    "Adicionalmente, o gráfico de explicação gerado pelo SHAP mostra, por meio da contribuição atribuída a cada característica, sua influência no valor do preço. É possível notar  que quantidade de CPUs, memória e tipo de instância são as mais relevantes, conferindo consistência à análise. Além disso, quanto maiores os valores de CPUs e de memória, maior tende a ser o preço de uma VM. Como um tipo de instância resume múltiplas características técnicas da VM, o seu valor pode contribuir para o preço de uma VM, já que possui um formato que encapsula carcaterísticas técnicas de uma VM."
   ]
  },
  {
   "cell_type": "code",
   "execution_count": 334,
   "id": "e2b5f413-99d9-41c1-93c9-f71e7d3bc4c5",
   "metadata": {},
   "outputs": [
    {
     "data": {
      "image/png": "[encoded data removed]",
      "text/plain": [
       "<Figure size 600x400 with 1 Axes>"
      ]
     },
     "metadata": {},
     "output_type": "display_data"
    },
    {
     "data": {
      "image/png": "[encoded data removed]",
      "text/plain": [
       "<Figure size 1000x400 with 2 Axes>"
      ]
     },
     "metadata": {},
     "output_type": "display_data"
    }
   ],
   "source": [
    "plot_feature_importance(rf_aws, X_train_aws, \"Modelo Random Forest com dados de AWS\", 'price')\n",
    "global_shap_aws = globalShap(X_aws, rf_aws, \"Explicação do Random Forest com dados de AWS\", 'price')"
   ]
  },
  {
   "cell_type": "markdown",
   "id": "2aba601a-dac0-4512-b882-c0d554404d81",
   "metadata": {},
   "source": [
    "###### Análise Azure"
   ]
  },
  {
   "cell_type": "markdown",
   "id": "99b9b87e-1572-4d8e-ad29-04b06aa2b885",
   "metadata": {},
   "source": [
    "Na Azure, os resultados foram semelhantes aos da AWS, com o modelo Random Forest destacando vCPUs, memória e tipo de instância como variáveis mais importantes para prever o custo de uma VM. No entanto, o tipo de instância teve maior relevância na Azure, isso pode ter ocorrido porque a Azure concentra múltiplas características técnicas em um único identificador. A análise com SHAP confirmou essa influência, mostrando que valores mais altos de vCPUs e memória tendem a aumentar o preço, e que o tipo de instância contribui significativamente por refletir aspectos técnicos essenciais para prever o preço de uma VM da Azure."
   ]
  },
  {
   "cell_type": "code",
   "execution_count": 335,
   "id": "44863523-4a25-41ca-84cb-92e6054f39ff",
   "metadata": {},
   "outputs": [
    {
     "data": {
      "image/png": "[encoded data removed]",
      "text/plain": [
       "<Figure size 600x400 with 1 Axes>"
      ]
     },
     "metadata": {},
     "output_type": "display_data"
    },
    {
     "data": {
      "image/png": "[encoded data removed]",
      "text/plain": [
       "<Figure size 1000x400 with 2 Axes>"
      ]
     },
     "metadata": {},
     "output_type": "display_data"
    }
   ],
   "source": [
    "plot_feature_importance(rf_azure, X_train_azure, \"Modelo Random Forest com dados de Azure\", 'price')\n",
    "global_shap_azure = globalShap(X_azure, rf_azure, 'Modelo Random Forest com dados de Azure', 'price')"
   ]
  },
  {
   "cell_type": "markdown",
   "id": "b46771f0-602e-42d6-bb57-4e76cc09db34",
   "metadata": {},
   "source": [
    "Os valores de quantidade de CPUs e memória mostraram-se importantes em um modelo que considerou essas características combinadas para as duas clouds. No entanto, a baixa performance do modelo, refletida pelo baixo R², indica que essa união pode não capturar bem toda a variabilidade dos preços. Mesmo assim, a maior importância atribuída à memória sugere que, ao analisar características gerais para previsão de custos, ela pode ser um indicativo relevante a ser considerado."
   ]
  },
  {
   "cell_type": "code",
   "execution_count": 342,
   "id": "4d5eea91-1bdc-45ed-8a24-50a2574a4659",
   "metadata": {},
   "outputs": [
    {
     "data": {
      "image/png": "[encoded data removed]",
      "text/plain": [
       "<Figure size 600x400 with 1 Axes>"
      ]
     },
     "metadata": {},
     "output_type": "display_data"
    },
    {
     "data": {
      "image/png": "[encoded data removed]",
      "text/plain": [
       "<Figure size 1000x400 with 2 Axes>"
      ]
     },
     "metadata": {},
     "output_type": "display_data"
    }
   ],
   "source": [
    "plot_feature_importance(rf_mult, X_mult, \"Modelo Random Forest com dados de AWS e Azure\",'price')\n",
    "global_shap_multi = globalShap(X_mult, rf_mult, \"Explicação do Random Forest com dados de AWS e Azure\", 'price')"
   ]
  }
 ],
 "metadata": {
  "kernelspec": {
   "display_name": "Python 3 (ipykernel)",
   "language": "python",
   "name": "python3"
  },
  "language_info": {
   "codemirror_mode": {
    "name": "ipython",
    "version": 3
   },
   "file_extension": ".py",
   "mimetype": "text/x-python",
   "name": "python",
   "nbconvert_exporter": "python",
   "pygments_lexer": "ipython3",
   "version": "3.12.2"
  }
 },
 "nbformat": 4,
 "nbformat_minor": 5
}
